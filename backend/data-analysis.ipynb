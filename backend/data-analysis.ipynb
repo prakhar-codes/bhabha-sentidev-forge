{
 "cells": [
  {
   "cell_type": "code",
   "execution_count": 1,
   "metadata": {},
   "outputs": [],
   "source": [
    "import pandas as pd\n",
    "import spacy\n",
    "import nltk\n",
    "from nltk import bigrams, trigrams\n",
    "from nltk.corpus import stopwords\n",
    "from collections import Counter\n",
    "\n"
   ]
  },
  {
   "cell_type": "code",
   "execution_count": null,
   "metadata": {},
   "outputs": [],
   "source": [
    "# Load the spaCy model\n",
    "nlp = spacy.load(\"en_core_web_sm\")\n",
    "\n",
    "# Read the CSV file into a DataFrame\n",
    "df = pd.read_csv('reviews.csv', sep=',')\n",
    "\n",
    "# Define the list of places\n",
    "places = ['Charminar', 'Golconda Fort', 'Wonderla', 'Ramoji Film City', 'Nehru Zoological Park',\n",
    "          'Birla Science Museum', 'Hussain Sagar Lake', 'Birla mandir', 'Cable Bridge', 'NTR Garden']\n",
    "\n",
    "\n"
   ]
  },
  {
   "cell_type": "code",
   "execution_count": null,
   "metadata": {},
   "outputs": [],
   "source": [
    "# Define a set of adjectives to exclude\n",
    "exclude_adjectives = {'good', 'great', 'nice', 'many', 'more', 'best', 'better', 'main', 'available', 'big', 'most', 'other', 'full', 'free', 'same', 'few', 'small'}\n",
    "\n",
    "# Create dictionaries to store data for each place\n",
    "data_per_place = []\n",
    "\n",
    "# Iterate through each place and extract the data\n",
    "for place in places:\n",
    "    place_data = {}\n",
    "    \n",
    "    # Extract average rating and likely partner\n",
    "    place_temp = df[df['Place You Want to Review About'] == place]\n",
    "    partner_counts = place_temp['Who Was Your Company During Your Visit'].value_counts()\n",
    "    max_partner = partner_counts.idxmax()\n",
    "    place_data['Place'] = place\n",
    "    place_data['Avg_Rating'] = place_temp['On a Scale of 1-5 Rate the Place'].mean()\n",
    "    place_data['Likely_Partner'] = max_partner\n",
    "    \n",
    "    # Extract common entities\n",
    "    exclude_words = {'Charminar', 'Hyderabad', 'India', 'Golconda', 'Telangana', 'West Bengal',\n",
    "                     'Overall', 'hyderabad', 'Hyerabad', 'Hyderabad City',\n",
    "                     'Ramoji Film City', 'Hyderbad', 'Telengana', 'Hussain Sagar Lake', 'Hussain',\n",
    "                     'Bengaluru', 'Karnataka', 'Andhra', 'charminar', 'wonderla', 'Wonderla'}\n",
    "    common_entities_per_place = Counter()\n",
    "    \n",
    "    place_reviews = df[df['Place You Want to Review About'] == place]\n",
    "    for index, row in place_reviews.iterrows():\n",
    "        review = row['A Detailed Review of the Place']\n",
    "        doc = nlp(review)\n",
    "        for ent in doc.ents:\n",
    "            if ent.label_ == 'GPE' and ent.text not in exclude_words:\n",
    "                common_entities_per_place[ent.text] += 1\n",
    "\n",
    "    place_data['Common_Names'] = [entity for entity, _ in common_entities_per_place.most_common() if entity not in exclude_words][:5]\n",
    "    \n",
    "    # Extract common adjectives\n",
    "    common_adjectives_per_place = Counter()\n",
    "    \n",
    "    for index, row in place_reviews.iterrows():\n",
    "        review = row['A Detailed Review of the Place']\n",
    "        doc = nlp(review)\n",
    "        for token in doc:\n",
    "            if token.pos_ == 'ADJ' and token.text.lower() not in exclude_adjectives:\n",
    "                common_adjectives_per_place[token.text.lower()] += 1\n",
    "\n",
    "    place_data['Common_Adjectives'] = [adjective for adjective, _ in common_adjectives_per_place.most_common()][:5]\n",
    "    \n",
    "    # Extract most frequent bigrams\n",
    "    reviews_for_place = place_reviews['A Detailed Review of the Place']\n",
    "    combined_text = ' '.join(reviews_for_place)\n",
    "    words = nltk.word_tokenize(combined_text.lower())\n",
    "    words = [word for word in words if word.isalnum() and word not in stopwords.words('english')]\n",
    "\n",
    "    # extract most frequent bigrams\n",
    "    bigram_list = list(bigrams(words))\n",
    "    bigram_counter = nltk.FreqDist(bigram_list)\n",
    "    place_data['Most_Frequent_Bigrams'] = [bigram for bigram, _ in bigram_counter.most_common(5)]\n",
    "    \n",
    "    # Extract most frequent trigrams\n",
    "    trigram_list = list(trigrams(words))\n",
    "    trigram_counter = nltk.FreqDist(trigram_list)\n",
    "    place_data['Most_Frequent_Trigrams'] = [trigram for trigram, _ in trigram_counter.most_common(5)]\n",
    "\n",
    "    # Append the data for this place to the list\n",
    "    data_per_place.append(place_data)\n",
    "\n",
    "# Create a DataFrame from the list of dictionaries\n",
    "df_result = pd.DataFrame(data_per_place)"
   ]
  },
  {
   "cell_type": "code",
   "execution_count": null,
   "metadata": {},
   "outputs": [],
   "source": [
    "df_result.to_csv('data-analysis.csv', index=False)"
   ]
  }
 ],
 "metadata": {
  "kernelspec": {
   "display_name": "base",
   "language": "python",
   "name": "python3"
  },
  "language_info": {
   "codemirror_mode": {
    "name": "ipython",
    "version": 3
   },
   "file_extension": ".py",
   "mimetype": "text/x-python",
   "name": "python",
   "nbconvert_exporter": "python",
   "pygments_lexer": "ipython3",
   "version": "3.9.13"
  },
  "orig_nbformat": 4
 },
 "nbformat": 4,
 "nbformat_minor": 2
}
